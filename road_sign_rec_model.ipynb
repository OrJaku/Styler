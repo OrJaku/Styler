{
  "nbformat": 4,
  "nbformat_minor": 0,
  "metadata": {
    "colab": {
      "name": "road_sign_rec_model.ipynb",
      "provenance": [],
      "collapsed_sections": [],
      "toc_visible": true,
      "mount_file_id": "1boPHgyMz_HPFVyOHPW7kt2nrZBDBJubM",
      "authorship_tag": "ABX9TyMvZY/aefpIBzW39EPIAOP6",
      "include_colab_link": true
    },
    "kernelspec": {
      "name": "python3",
      "display_name": "Python 3"
    },
    "accelerator": "GPU"
  },
  "cells": [
    {
      "cell_type": "markdown",
      "metadata": {
        "id": "view-in-github",
        "colab_type": "text"
      },
      "source": [
        "<a href=\"https://colab.research.google.com/github/OrJaku/Styler/blob/master/road_sign_rec_model.ipynb\" target=\"_parent\"><img src=\"https://colab.research.google.com/assets/colab-badge.svg\" alt=\"Open In Colab\"/></a>"
      ]
    },
    {
      "cell_type": "markdown",
      "metadata": {
        "id": "A1BoHNMscLwp",
        "colab_type": "text"
      },
      "source": [
        "##Biblioteki"
      ]
    },
    {
      "cell_type": "code",
      "metadata": {
        "id": "yILZf6IzcwYp",
        "colab_type": "code",
        "colab": {}
      },
      "source": [
        "import os, shutil, cv2, json\n",
        "import pandas as pd\n",
        "import numpy as np\n",
        "from keras import layers, models, optimizers, metrics\n",
        "from keras.preprocessing.image import ImageDataGenerator\n",
        "import matplotlib\n",
        "matplotlib.use('agg')\n",
        "import matplotlib.pyplot as plt\n",
        "import matplotlib.image as mpimg \n"
      ],
      "execution_count": 0,
      "outputs": []
    },
    {
      "cell_type": "markdown",
      "metadata": {
        "id": "YGc8PWa5cM-H",
        "colab_type": "text"
      },
      "source": [
        "## Pliki"
      ]
    },
    {
      "cell_type": "code",
      "metadata": {
        "id": "5yI9rJmbZMNh",
        "colab_type": "code",
        "outputId": "e4767711-a471-4085-e186-e0183fddcbea",
        "colab": {
          "base_uri": "https://localhost:8080/",
          "height": 34
        }
      },
      "source": [
        "cd \"/content/drive/My Drive/Colab Notebooks/Road_sign_rec\""
      ],
      "execution_count": 0,
      "outputs": [
        {
          "output_type": "stream",
          "text": [
            "/content/drive/My Drive/Colab Notebooks/Road_sign_rec\n"
          ],
          "name": "stdout"
        }
      ]
    },
    {
      "cell_type": "code",
      "metadata": {
        "id": "IJjxYF4Yxlms",
        "colab_type": "code",
        "outputId": "f06d54b1-63fd-4ec4-d4bc-523ff462f0b9",
        "colab": {
          "base_uri": "https://localhost:8080/",
          "height": 34
        }
      },
      "source": [
        "cd \"/content/drive/My Drive/Colab Notebooks/Road_sign_rec/data\""
      ],
      "execution_count": 0,
      "outputs": [
        {
          "output_type": "stream",
          "text": [
            "/content/drive/My Drive/Colab Notebooks/Road_sign_rec/data\n"
          ],
          "name": "stdout"
        }
      ]
    },
    {
      "cell_type": "code",
      "metadata": {
        "id": "liIHacyqLDK1",
        "colab_type": "code",
        "outputId": "baabd34c-f561-4ab8-d3b5-d237e0dcf07e",
        "colab": {
          "base_uri": "https://localhost:8080/",
          "height": 52
        }
      },
      "source": [
        "cd '/content/data'"
      ],
      "execution_count": 0,
      "outputs": [
        {
          "output_type": "stream",
          "text": [
            "[Errno 2] No such file or directory: '/content/data'\n",
            "/content\n"
          ],
          "name": "stdout"
        }
      ]
    },
    {
      "cell_type": "code",
      "metadata": {
        "id": "EMokUffyxdg3",
        "colab_type": "code",
        "outputId": "422ac7f6-3a12-43d8-cc6d-6b281b72206a",
        "colab": {
          "resources": {
            "http://localhost:8080/nbextensions/google.colab/files.js": {
              "data": "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",
              "ok": true,
              "headers": [
                [
                  "content-type",
                  "application/javascript"
                ]
              ],
              "status": 200,
              "status_text": "OK"
            }
          },
          "base_uri": "https://localhost:8080/",
          "height": 83
        }
      },
      "source": [
        "from google.colab import files\n",
        "\n",
        "uploaded = files.upload()"
      ],
      "execution_count": 0,
      "outputs": [
        {
          "output_type": "display_data",
          "data": {
            "text/html": [
              "\n",
              "     <input type=\"file\" id=\"files-ba1dd338-0c21-4f39-b5b4-35dd97aada19\" name=\"files[]\" multiple disabled />\n",
              "     <output id=\"result-ba1dd338-0c21-4f39-b5b4-35dd97aada19\">\n",
              "      Upload widget is only available when the cell has been executed in the\n",
              "      current browser session. Please rerun this cell to enable.\n",
              "      </output>\n",
              "      <script src=\"/nbextensions/google.colab/files.js\"></script> "
            ],
            "text/plain": [
              "<IPython.core.display.HTML object>"
            ]
          },
          "metadata": {
            "tags": []
          }
        },
        {
          "output_type": "stream",
          "text": [
            "Saving Dataset_zip.zip to Dataset_zip.zip\n"
          ],
          "name": "stdout"
        }
      ]
    },
    {
      "cell_type": "markdown",
      "metadata": {
        "id": "GBHKh-2fcYq8",
        "colab_type": "text"
      },
      "source": [
        "### Kopiowanie obrazów treningowych na dysk Colab"
      ]
    },
    {
      "cell_type": "code",
      "metadata": {
        "id": "RvxjUGItyVkF",
        "colab_type": "code",
        "outputId": "065a4f59-7986-413a-a684-ea5208a2e838",
        "colab": {
          "base_uri": "https://localhost:8080/",
          "height": 34
        }
      },
      "source": [
        "cd \"/content\""
      ],
      "execution_count": 0,
      "outputs": [
        {
          "output_type": "stream",
          "text": [
            "/content\n"
          ],
          "name": "stdout"
        }
      ]
    },
    {
      "cell_type": "code",
      "metadata": {
        "id": "_rZWntpHya4K",
        "colab_type": "code",
        "colab": {}
      },
      "source": [
        "try:\n",
        "  os.mkdir(\"data\")\n",
        "except FileExistsError:\n",
        "  pass\n",
        "!cp \"/content/drive/My Drive/Colab Notebooks/Road_sign_rec/Data/Dataset_zip.zip\" \"/content/data/Dataset_zip.zip\""
      ],
      "execution_count": 0,
      "outputs": []
    },
    {
      "cell_type": "code",
      "metadata": {
        "id": "lOPH5wcOzQWF",
        "colab_type": "code",
        "outputId": "59ab9c12-8062-4616-e4c0-8193d34151c4",
        "colab": {
          "base_uri": "https://localhost:8080/",
          "height": 34
        }
      },
      "source": [
        "cd data"
      ],
      "execution_count": 0,
      "outputs": [
        {
          "output_type": "stream",
          "text": [
            "/content/data\n"
          ],
          "name": "stdout"
        }
      ]
    },
    {
      "cell_type": "code",
      "metadata": {
        "id": "09hioilizA-l",
        "colab_type": "code",
        "colab": {}
      },
      "source": [
        "!unzip -q Dataset_zip.zip"
      ],
      "execution_count": 0,
      "outputs": []
    },
    {
      "cell_type": "markdown",
      "metadata": {
        "id": "L97BfvTNfVIG",
        "colab_type": "text"
      },
      "source": [
        "### Przygotowanie folderów"
      ]
    },
    {
      "cell_type": "code",
      "metadata": {
        "id": "gLFz7U1VZXQ2",
        "colab_type": "code",
        "outputId": "b1658127-17a3-4e62-8984-44040b2fe744",
        "colab": {
          "base_uri": "https://localhost:8080/",
          "height": 237
        }
      },
      "source": [
        "base_dir = \"Data/\"\n",
        "train_dir = os.path.join(base_dir, 'train_data')\n",
        "try:\n",
        "  os.mkdir(train_dir)\n",
        "except FileExistsError:\n",
        "  pass\n",
        "\n",
        "cross_train =  os.path.join(train_dir, 'cross')\n",
        "stop_train =  os.path.join(train_dir, 'stop')\n",
        "limit50_train =  os.path.join(train_dir, 'limit50')\n",
        "nosign_train =  os.path.join(train_dir, 'nosign')\n",
        "try:\n",
        "  os.mkdir(nosign_train)\n",
        "except FileExistsError:\n",
        "  pass\n",
        "try:\n",
        "  os.mkdir(cross_train)\n",
        "except FileExistsError:\n",
        "  pass\n",
        "try:\n",
        "  os.mkdir(stop_train)\n",
        "except FileExistsError:\n",
        "  pass\n",
        "try:\n",
        "  os.mkdir(limit50_train)\n",
        "except FileExistsError:\n",
        "  pass\n",
        "\n",
        "valid_dir = os.path.join(base_dir, 'valid_data')\n",
        "try:\n",
        "  os.mkdir(valid_dir)\n",
        "except FileExistsError:\n",
        "  pass\n",
        "\n",
        "cross_val =  os.path.join(valid_dir, 'cross')\n",
        "stop_val =  os.path.join(valid_dir, 'stop')\n",
        "limit50_val =  os.path.join(valid_dir, 'limit50')\n",
        "nosign_val =  os.path.join(valid_dir, 'nosign')\n",
        "\n",
        "try:\n",
        "  os.mkdir(nosign_val)\n",
        "except FileExistsError:\n",
        "  pass\n",
        "try:\n",
        "  os.mkdir(cross_val)\n",
        "except FileExistsError:\n",
        "  pass\n",
        "try:\n",
        "  os.mkdir(stop_val)\n",
        "except FileExistsError:\n",
        "  pass\n",
        "try:\n",
        "  os.mkdir(limit50_val)\n",
        "except FileExistsError:\n",
        "  pass\n",
        "\n",
        "test_dir = os.path.join(base_dir, 'test_data')\n",
        "try:\n",
        "  os.mkdir(test_dir)\n",
        "except FileExistsError:\n",
        "  pass\n",
        "\n",
        "cross_test =  os.path.join(test_dir, 'cross')\n",
        "stop_test =  os.path.join(test_dir, 'stop')\n",
        "limit50_test =  os.path.join(test_dir, 'limit50')\n",
        "limit40_test =  os.path.join(test_dir, 'limit40')\n",
        "limit60_test =  os.path.join(test_dir, 'limit60')\n",
        "limit70_test =  os.path.join(test_dir, 'limit70')\n",
        "limit80_test =  os.path.join(test_dir, 'limit80')\n",
        "limit100_test =  os.path.join(test_dir, 'limit100')\n",
        "\n",
        "nosign_test =  os.path.join(test_dir, 'nosign')\n"
      ],
      "execution_count": 0,
      "outputs": [
        {
          "output_type": "error",
          "ename": "FileNotFoundError",
          "evalue": "ignored",
          "traceback": [
            "\u001b[0;31m---------------------------------------------------------------------------\u001b[0m",
            "\u001b[0;31mFileNotFoundError\u001b[0m                         Traceback (most recent call last)",
            "\u001b[0;32m<ipython-input-7-c37a43a48b1b>\u001b[0m in \u001b[0;36m<module>\u001b[0;34m()\u001b[0m\n\u001b[1;32m      2\u001b[0m \u001b[0mtrain_dir\u001b[0m \u001b[0;34m=\u001b[0m \u001b[0mos\u001b[0m\u001b[0;34m.\u001b[0m\u001b[0mpath\u001b[0m\u001b[0;34m.\u001b[0m\u001b[0mjoin\u001b[0m\u001b[0;34m(\u001b[0m\u001b[0mbase_dir\u001b[0m\u001b[0;34m,\u001b[0m \u001b[0;34m'train_data'\u001b[0m\u001b[0;34m)\u001b[0m\u001b[0;34m\u001b[0m\u001b[0;34m\u001b[0m\u001b[0m\n\u001b[1;32m      3\u001b[0m \u001b[0;32mtry\u001b[0m\u001b[0;34m:\u001b[0m\u001b[0;34m\u001b[0m\u001b[0;34m\u001b[0m\u001b[0m\n\u001b[0;32m----> 4\u001b[0;31m   \u001b[0mos\u001b[0m\u001b[0;34m.\u001b[0m\u001b[0mmkdir\u001b[0m\u001b[0;34m(\u001b[0m\u001b[0mtrain_dir\u001b[0m\u001b[0;34m)\u001b[0m\u001b[0;34m\u001b[0m\u001b[0;34m\u001b[0m\u001b[0m\n\u001b[0m\u001b[1;32m      5\u001b[0m \u001b[0;32mexcept\u001b[0m \u001b[0mFileExistsError\u001b[0m\u001b[0;34m:\u001b[0m\u001b[0;34m\u001b[0m\u001b[0;34m\u001b[0m\u001b[0m\n\u001b[1;32m      6\u001b[0m   \u001b[0;32mpass\u001b[0m\u001b[0;34m\u001b[0m\u001b[0;34m\u001b[0m\u001b[0m\n",
            "\u001b[0;31mFileNotFoundError\u001b[0m: [Errno 2] No such file or directory: 'Data/train_data'"
          ]
        }
      ]
    },
    {
      "cell_type": "markdown",
      "metadata": {
        "id": "B6C9ZXIjfdnm",
        "colab_type": "text"
      },
      "source": [
        "#### Ilość poszczegónych zdjęć"
      ]
    },
    {
      "cell_type": "code",
      "metadata": {
        "id": "E34aEB7Obpkm",
        "colab_type": "code",
        "colab": {}
      },
      "source": [
        "cross_origin_path = os.path.abspath(\"/content/drive/My Drive/Colab Notebooks/Road_sign_rec/Data/information--pedestrians-crossing--g1/\")\n",
        "stop_origin_path = os.path.abspath(\"/content/drive/My Drive/Colab Notebooks/Road_sign_rec/Data/regulatory--stop--g1\")\n",
        "limit50_origin_path = os.path.abspath(\"/content/drive/My Drive/Colab Notebooks/Road_sign_rec/Data/regulatory--maximum-speed-limit-50--g1\")\n",
        "nosign_path = os.path.abspath(\"/content/drive/My Drive/Colab Notebooks/Road_sign_rec/Data/NoSign\")\n",
        "nosign_path_2 = os.path.abspath(\"/content/drive/My Drive/Colab Notebooks/Road_sign_rec/Data/NoSign2\")\n",
        "\n",
        "\n",
        "\n",
        "print('Przejscie dla piszych: ',len(os.listdir(cross_origin_path)))\n",
        "print('Stop: ', len(os.listdir(stop_origin_path)))\n",
        "print('Ograniczenie do 50km/h: ', len(os.listdir(limit50_origin_path)))\n",
        "number_of_nosign = len(os.listdir(nosign_path)) + len(os.listdir(nosign_path_2))\n",
        "print('Brak znaku', number_of_nosign)\n"
      ],
      "execution_count": 0,
      "outputs": []
    },
    {
      "cell_type": "markdown",
      "metadata": {
        "id": "hfqmdzzsfq81",
        "colab_type": "text"
      },
      "source": [
        "#### Kopowanie i podział zdjęć na treningowe, walidacyjne i testowe\n",
        "\n",
        "---\n",
        "\n"
      ]
    },
    {
      "cell_type": "code",
      "metadata": {
        "id": "Os4zVKiofTDn",
        "colab_type": "code",
        "outputId": "88e0eb4d-5e30-420a-e687-faa1b92ccce6",
        "colab": {
          "base_uri": "https://localhost:8080/",
          "height": 86
        }
      },
      "source": [
        "\n",
        "# # train cross\n",
        "# for image_name in os.listdir(cross_origin_path)[0:1200]:\n",
        "#   src = os.path.join(cross_origin_path, image_name)\n",
        "#   dst = os.path.join(cross_train, image_name)\n",
        "#   shutil.copyfile(src, dst)\n",
        "# print(\"train cross copied\")\n",
        "\n",
        "# # validation cross\n",
        "# for image_name in os.listdir(cross_origin_path)[1200:1800]:\n",
        "#   src = os.path.join(cross_origin_path, image_name)\n",
        "#   dst = os.path.join(cross_val, image_name)\n",
        "#   shutil.copyfile(src, dst)\n",
        "# print(\"validation cross copied\")\n",
        "\n",
        "# # test cross\n",
        "# for image_name in os.listdir(cross_origin_path)[1800:]:\n",
        "#   src = os.path.join(cross_origin_path, image_name)\n",
        "#   dst = os.path.join(cross_test, image_name)\n",
        "#   shutil.copyfile(src, dst)\n",
        "# print(\"test cross copied\")\n",
        "\n",
        "# ##################################\n",
        "\n",
        "# # train stop\n",
        "# i=0\n",
        "# for image_name in os.listdir(stop_origin_path)[0:900]:\n",
        "#   i =+ 1\n",
        "#   src = os.path.join(stop_origin_path, image_name)\n",
        "#   dst = os.path.join(stop_train, image_name)\n",
        "#   shutil.copyfile(src, dst)\n",
        "#   if i == 200 or i == 400 or i == 700:\n",
        "#     print(f\"Copied {i} \")\n",
        "# print(\"train stop copied\")\n",
        "\n",
        "\n",
        "# # validation stop\n",
        "# for image_name in os.listdir(stop_origin_path)[901:1200]:\n",
        "#   src = os.path.join(stop_origin_path, image_name)\n",
        "#   dst = os.path.join(stop_val, image_name)\n",
        "#   shutil.copyfile(src, dst)\n",
        "#   if i == 1050:\n",
        "#     print(f\"Copied {i} \")\n",
        "# print(\"validation stop copied\")\n",
        "\n",
        "# # test stop\n",
        "# for image_name in os.listdir(stop_origin_path)[1201:]:\n",
        "#   src = os.path.join(stop_origin_path, image_name)\n",
        "#   dst = os.path.join(stop_test, image_name)\n",
        "#   shutil.copyfile(src, dst)\n",
        "#   if i == 1300:\n",
        "#     print(f\"Copied {i} \")\n",
        "# print(\"test stop copied\")\n",
        "\n",
        "\n",
        "# ##########################\n",
        "\n",
        "# # train limit50\n",
        "# for image_name in os.listdir(limit50_origin_path)[0:400]:\n",
        "#   src = os.path.join(limit50_origin_path, image_name)\n",
        "#   dst = os.path.join(limit50_train, image_name)\n",
        "#   shutil.copyfile(src, dst)\n",
        "# print(\"train limit50 copied\")\n",
        "\n",
        "# # validation limit50\n",
        "# for image_name in os.listdir(limit50_origin_path)[400:600]:\n",
        "#   src = os.path.join(limit50_origin_path, image_name)\n",
        "#   dst = os.path.join(limit50_val, image_name)\n",
        "#   shutil.copyfile(src, dst)\n",
        "# print(\"validation limit50 copied\")\n",
        "\n",
        "# # test limit50\n",
        "# for image_name in os.listdir(limit50_origin_path)[600:]:\n",
        "#   src = os.path.join(limit50_origin_path, image_name)\n",
        "#   dst = os.path.join(limit50_test, image_name)\n",
        "#   shutil.copyfile(src, dst)\n",
        "# print(\"test limit50 copied\")\n",
        "\n",
        "\n",
        "# #########################\n",
        "\n",
        "\n",
        "# # train NoSign\n",
        "# for image_name in os.listdir(nosign_path)[0:1300]:\n",
        "#   src = os.path.join(nosign_path, image_name)\n",
        "#   dst = os.path.join(nosign_train, image_name)\n",
        "#   shutil.copyfile(src, dst)\n",
        "# print(\"train NoSign copied\")\n",
        "\n",
        "# # validation NoSign\n",
        "# for image_name in os.listdir(nosign_path)[1300:1700]:\n",
        "#   src = os.path.join(nosign_path, image_name)\n",
        "#   dst = os.path.join(nosign_val, image_name)\n",
        "#   shutil.copyfile(src, dst)\n",
        "# print(\"validation NoSign copied\")\n",
        "\n",
        "# # test NoSign\n",
        "# for image_name in os.listdir(nosign_path)[1700:]:\n",
        "#   src = os.path.join(nosign_path, image_name)\n",
        "#   dst = os.path.join(nosign_test, image_name)\n",
        "#   shutil.copyfile(src, dst)\n",
        "# print(\"test NoSign copied\")\n",
        "\n",
        "\n",
        "# # train NoSign2\n",
        "# for image_name in os.listdir(nosign_path_2)[0:1300]:\n",
        "#   src = os.path.join(nosign_path_2, image_name)\n",
        "#   dst = os.path.join(nosign_train, image_name)\n",
        "#   shutil.copyfile(src, dst)\n",
        "# print(\"train NoSign2 copied\")\n",
        "\n",
        "# # validation NoSign2\n",
        "# for image_name in os.listdir(nosign_path_2)[1300:1700]:\n",
        "#   src = os.path.join(nosign_path_2, image_name)\n",
        "#   dst = os.path.join(nosign_val, image_name)\n",
        "#   shutil.copyfile(src, dst)\n",
        "# print(\"validation NoSign2 copied\")\n",
        "\n",
        "# # test NoSign2\n",
        "# for image_name in os.listdir(nosign_path_2)[1700:]:\n",
        "#   src = os.path.join(nosign_path_2, image_name)\n",
        "#   dst = os.path.join(nosign_test, image_name)\n",
        "#   shutil.copyfile(src, dst)\n",
        "# print(\"test NoSign2 copied\")\n",
        "\n",
        "\n"
      ],
      "execution_count": 0,
      "outputs": [
        {
          "output_type": "stream",
          "text": [
            "train cross copied\n",
            "validation cross copied\n",
            "test cross copied\n",
            "train stop copied\n"
          ],
          "name": "stdout"
        }
      ]
    },
    {
      "cell_type": "markdown",
      "metadata": {
        "id": "Vv-DHfNSpk4I",
        "colab_type": "text"
      },
      "source": [
        "#### Przekształcanie plików .jpg na tensory - test"
      ]
    },
    {
      "cell_type": "code",
      "metadata": {
        "id": "zmlQShw9k4Eh",
        "colab_type": "code",
        "colab": {}
      },
      "source": [
        "# datagen = ImageDataGenerator(rotation_range=40,\n",
        "#                              width_shift_range=0.2,\n",
        "#                              height_shift_range=0.2,\n",
        "#                              shear_range=0.2,\n",
        "#                              zoom_range=0.2,\n",
        "#                              horizontal_flip=True,\n",
        "#                              fill_mode='nearest') \n",
        "                                  "
      ],
      "execution_count": 0,
      "outputs": []
    },
    {
      "cell_type": "code",
      "metadata": {
        "id": "66_xfeCyomy5",
        "colab_type": "code",
        "colab": {}
      },
      "source": [
        "# from keras.preprocessing import image\n",
        "\n",
        "# figure = plt.figure()\n",
        "# fnames = [os.path.join(cross_train, fname) for fname in os.listdir(cross_train)]\n",
        "# img_path = fnames[3]\n",
        "# print(img_path)\n",
        "# img = image.load_img(img_path, target_size=(100, 100))\n",
        "# plt.imshow(img)\n",
        "# x = image.img_to_array(img)\n",
        "# x = x.reshape((1,) + x.shape)\n",
        "# i=1\n",
        "# for batch in datagen.flow(x, batch_size=1):\n",
        "#   plt.subplot(2, 3, i+0)\n",
        "#   plt\n",
        "#   plt.imshow(image.array_to_img(batch[0]))\n",
        "#   i+=1\n",
        "#   if i%5==0:\n",
        "#     break\n",
        "\n",
        "# plt.show()\n",
        "# figure"
      ],
      "execution_count": 0,
      "outputs": []
    },
    {
      "cell_type": "code",
      "metadata": {
        "id": "5nWpnNouvnEI",
        "colab_type": "code",
        "colab": {}
      },
      "source": [
        "# figure = plt.figure()\n",
        "# fnames = [os.path.join(cross_train, fname) for fname in os.listdir(cross_train)]\n",
        "# img_path = fnames[3]\n",
        "# print(img_path)\n",
        "# img = image.load_img(img_path, target_size=(100, 100))\n",
        "# plt.imshow(img)\n",
        "# figure"
      ],
      "execution_count": 0,
      "outputs": []
    },
    {
      "cell_type": "markdown",
      "metadata": {
        "id": "pPa9uA1YdV8D",
        "colab_type": "text"
      },
      "source": [
        "##Modele"
      ]
    },
    {
      "cell_type": "markdown",
      "metadata": {
        "id": "ofyIFmX1dnj7",
        "colab_type": "text"
      },
      "source": [
        "###Przygotowanie parametrów"
      ]
    },
    {
      "cell_type": "markdown",
      "metadata": {
        "id": "XgLfl0i-dLft",
        "colab_type": "text"
      },
      "source": [
        "####Ustawienia genereatora zdjęć"
      ]
    },
    {
      "cell_type": "code",
      "metadata": {
        "id": "EDi-Uu2-pkJX",
        "colab_type": "code",
        "outputId": "bbdcb3ce-8217-4163-f34f-cb306b503aaf",
        "colab": {
          "base_uri": "https://localhost:8080/",
          "height": 382
        }
      },
      "source": [
        "batch_size = 64\n",
        "picture_size = 100\n",
        "\n",
        "train_datagen = ImageDataGenerator(rescale=1./255,\n",
        "                                  rotation_range=40,\n",
        "                                  width_shift_range=0.2,\n",
        "                                  height_shift_range=0.2,\n",
        "                                  shear_range=0.2,\n",
        "                                  zoom_range=0.2,\n",
        "                                  horizontal_flip=True,\n",
        "                                  fill_mode='nearest')\n",
        "valid_datagen = ImageDataGenerator(rescale=1./255)\n",
        "\n",
        "train_generator = train_datagen.flow_from_directory(\n",
        "    train_dir,\n",
        "    target_size=(picture_size,picture_size),\n",
        "    batch_size=batch_size,\n",
        "    class_mode='categorical'\n",
        ")\n",
        "\n",
        "valid_generator = valid_datagen.flow_from_directory(\n",
        "    valid_dir,\n",
        "    target_size=(picture_size,picture_size),\n",
        "    batch_size=batch_size,\n",
        "    class_mode='categorical'\n",
        "\n",
        ")\n",
        "number_of_classes = len(train_generator.class_indices)\n"
      ],
      "execution_count": 0,
      "outputs": [
        {
          "output_type": "error",
          "ename": "KeyboardInterrupt",
          "evalue": "ignored",
          "traceback": [
            "\u001b[0;31m---------------------------------------------------------------------------\u001b[0m",
            "\u001b[0;31mKeyboardInterrupt\u001b[0m                         Traceback (most recent call last)",
            "\u001b[0;32m<ipython-input-9-0f36d68a007e>\u001b[0m in \u001b[0;36m<module>\u001b[0;34m()\u001b[0m\n\u001b[1;32m     16\u001b[0m     \u001b[0mtarget_size\u001b[0m\u001b[0;34m=\u001b[0m\u001b[0;34m(\u001b[0m\u001b[0mpicture_size\u001b[0m\u001b[0;34m,\u001b[0m\u001b[0mpicture_size\u001b[0m\u001b[0;34m)\u001b[0m\u001b[0;34m,\u001b[0m\u001b[0;34m\u001b[0m\u001b[0;34m\u001b[0m\u001b[0m\n\u001b[1;32m     17\u001b[0m     \u001b[0mbatch_size\u001b[0m\u001b[0;34m=\u001b[0m\u001b[0mbatch_size\u001b[0m\u001b[0;34m,\u001b[0m\u001b[0;34m\u001b[0m\u001b[0;34m\u001b[0m\u001b[0m\n\u001b[0;32m---> 18\u001b[0;31m     \u001b[0mclass_mode\u001b[0m\u001b[0;34m=\u001b[0m\u001b[0;34m'categorical'\u001b[0m\u001b[0;34m\u001b[0m\u001b[0;34m\u001b[0m\u001b[0m\n\u001b[0m\u001b[1;32m     19\u001b[0m )\n\u001b[1;32m     20\u001b[0m \u001b[0;34m\u001b[0m\u001b[0m\n",
            "\u001b[0;32m/usr/local/lib/python3.6/dist-packages/keras/preprocessing/image.py\u001b[0m in \u001b[0;36mflow_from_directory\u001b[0;34m(self, directory, target_size, color_mode, classes, class_mode, batch_size, shuffle, seed, save_to_dir, save_prefix, save_format, follow_links, subset, interpolation)\u001b[0m\n\u001b[1;32m    465\u001b[0m             \u001b[0mfollow_links\u001b[0m\u001b[0;34m=\u001b[0m\u001b[0mfollow_links\u001b[0m\u001b[0;34m,\u001b[0m\u001b[0;34m\u001b[0m\u001b[0;34m\u001b[0m\u001b[0m\n\u001b[1;32m    466\u001b[0m             \u001b[0msubset\u001b[0m\u001b[0;34m=\u001b[0m\u001b[0msubset\u001b[0m\u001b[0;34m,\u001b[0m\u001b[0;34m\u001b[0m\u001b[0;34m\u001b[0m\u001b[0m\n\u001b[0;32m--> 467\u001b[0;31m             \u001b[0minterpolation\u001b[0m\u001b[0;34m=\u001b[0m\u001b[0minterpolation\u001b[0m\u001b[0;34m\u001b[0m\u001b[0;34m\u001b[0m\u001b[0m\n\u001b[0m\u001b[1;32m    468\u001b[0m         )\n\u001b[1;32m    469\u001b[0m \u001b[0;34m\u001b[0m\u001b[0m\n",
            "\u001b[0;32m/usr/local/lib/python3.6/dist-packages/keras/preprocessing/image.py\u001b[0m in \u001b[0;36m__init__\u001b[0;34m(self, directory, image_data_generator, target_size, color_mode, classes, class_mode, batch_size, shuffle, seed, data_format, save_to_dir, save_prefix, save_format, follow_links, subset, interpolation, dtype)\u001b[0m\n\u001b[1;32m    148\u001b[0m             \u001b[0msubset\u001b[0m\u001b[0;34m=\u001b[0m\u001b[0msubset\u001b[0m\u001b[0;34m,\u001b[0m\u001b[0;34m\u001b[0m\u001b[0;34m\u001b[0m\u001b[0m\n\u001b[1;32m    149\u001b[0m             \u001b[0minterpolation\u001b[0m\u001b[0;34m=\u001b[0m\u001b[0minterpolation\u001b[0m\u001b[0;34m,\u001b[0m\u001b[0;34m\u001b[0m\u001b[0;34m\u001b[0m\u001b[0m\n\u001b[0;32m--> 150\u001b[0;31m             dtype=dtype)\n\u001b[0m\u001b[1;32m    151\u001b[0m \u001b[0;34m\u001b[0m\u001b[0m\n\u001b[1;32m    152\u001b[0m \u001b[0;34m\u001b[0m\u001b[0m\n",
            "\u001b[0;32m/usr/local/lib/python3.6/dist-packages/keras_preprocessing/image/directory_iterator.py\u001b[0m in \u001b[0;36m__init__\u001b[0;34m(self, directory, image_data_generator, target_size, color_mode, classes, class_mode, batch_size, shuffle, seed, data_format, save_to_dir, save_prefix, save_format, follow_links, subset, interpolation, dtype)\u001b[0m\n\u001b[1;32m    133\u001b[0m         \u001b[0mclasses_list\u001b[0m \u001b[0;34m=\u001b[0m \u001b[0;34m[\u001b[0m\u001b[0;34m]\u001b[0m\u001b[0;34m\u001b[0m\u001b[0;34m\u001b[0m\u001b[0m\n\u001b[1;32m    134\u001b[0m         \u001b[0;32mfor\u001b[0m \u001b[0mres\u001b[0m \u001b[0;32min\u001b[0m \u001b[0mresults\u001b[0m\u001b[0;34m:\u001b[0m\u001b[0;34m\u001b[0m\u001b[0;34m\u001b[0m\u001b[0m\n\u001b[0;32m--> 135\u001b[0;31m             \u001b[0mclasses\u001b[0m\u001b[0;34m,\u001b[0m \u001b[0mfilenames\u001b[0m \u001b[0;34m=\u001b[0m \u001b[0mres\u001b[0m\u001b[0;34m.\u001b[0m\u001b[0mget\u001b[0m\u001b[0;34m(\u001b[0m\u001b[0;34m)\u001b[0m\u001b[0;34m\u001b[0m\u001b[0;34m\u001b[0m\u001b[0m\n\u001b[0m\u001b[1;32m    136\u001b[0m             \u001b[0mclasses_list\u001b[0m\u001b[0;34m.\u001b[0m\u001b[0mappend\u001b[0m\u001b[0;34m(\u001b[0m\u001b[0mclasses\u001b[0m\u001b[0;34m)\u001b[0m\u001b[0;34m\u001b[0m\u001b[0;34m\u001b[0m\u001b[0m\n\u001b[1;32m    137\u001b[0m             \u001b[0mself\u001b[0m\u001b[0;34m.\u001b[0m\u001b[0mfilenames\u001b[0m \u001b[0;34m+=\u001b[0m \u001b[0mfilenames\u001b[0m\u001b[0;34m\u001b[0m\u001b[0;34m\u001b[0m\u001b[0m\n",
            "\u001b[0;32m/usr/lib/python3.6/multiprocessing/pool.py\u001b[0m in \u001b[0;36mget\u001b[0;34m(self, timeout)\u001b[0m\n\u001b[1;32m    636\u001b[0m \u001b[0;34m\u001b[0m\u001b[0m\n\u001b[1;32m    637\u001b[0m     \u001b[0;32mdef\u001b[0m \u001b[0mget\u001b[0m\u001b[0;34m(\u001b[0m\u001b[0mself\u001b[0m\u001b[0;34m,\u001b[0m \u001b[0mtimeout\u001b[0m\u001b[0;34m=\u001b[0m\u001b[0;32mNone\u001b[0m\u001b[0;34m)\u001b[0m\u001b[0;34m:\u001b[0m\u001b[0;34m\u001b[0m\u001b[0;34m\u001b[0m\u001b[0m\n\u001b[0;32m--> 638\u001b[0;31m         \u001b[0mself\u001b[0m\u001b[0;34m.\u001b[0m\u001b[0mwait\u001b[0m\u001b[0;34m(\u001b[0m\u001b[0mtimeout\u001b[0m\u001b[0;34m)\u001b[0m\u001b[0;34m\u001b[0m\u001b[0;34m\u001b[0m\u001b[0m\n\u001b[0m\u001b[1;32m    639\u001b[0m         \u001b[0;32mif\u001b[0m \u001b[0;32mnot\u001b[0m \u001b[0mself\u001b[0m\u001b[0;34m.\u001b[0m\u001b[0mready\u001b[0m\u001b[0;34m(\u001b[0m\u001b[0;34m)\u001b[0m\u001b[0;34m:\u001b[0m\u001b[0;34m\u001b[0m\u001b[0;34m\u001b[0m\u001b[0m\n\u001b[1;32m    640\u001b[0m             \u001b[0;32mraise\u001b[0m \u001b[0mTimeoutError\u001b[0m\u001b[0;34m\u001b[0m\u001b[0;34m\u001b[0m\u001b[0m\n",
            "\u001b[0;32m/usr/lib/python3.6/multiprocessing/pool.py\u001b[0m in \u001b[0;36mwait\u001b[0;34m(self, timeout)\u001b[0m\n\u001b[1;32m    633\u001b[0m \u001b[0;34m\u001b[0m\u001b[0m\n\u001b[1;32m    634\u001b[0m     \u001b[0;32mdef\u001b[0m \u001b[0mwait\u001b[0m\u001b[0;34m(\u001b[0m\u001b[0mself\u001b[0m\u001b[0;34m,\u001b[0m \u001b[0mtimeout\u001b[0m\u001b[0;34m=\u001b[0m\u001b[0;32mNone\u001b[0m\u001b[0;34m)\u001b[0m\u001b[0;34m:\u001b[0m\u001b[0;34m\u001b[0m\u001b[0;34m\u001b[0m\u001b[0m\n\u001b[0;32m--> 635\u001b[0;31m         \u001b[0mself\u001b[0m\u001b[0;34m.\u001b[0m\u001b[0m_event\u001b[0m\u001b[0;34m.\u001b[0m\u001b[0mwait\u001b[0m\u001b[0;34m(\u001b[0m\u001b[0mtimeout\u001b[0m\u001b[0;34m)\u001b[0m\u001b[0;34m\u001b[0m\u001b[0;34m\u001b[0m\u001b[0m\n\u001b[0m\u001b[1;32m    636\u001b[0m \u001b[0;34m\u001b[0m\u001b[0m\n\u001b[1;32m    637\u001b[0m     \u001b[0;32mdef\u001b[0m \u001b[0mget\u001b[0m\u001b[0;34m(\u001b[0m\u001b[0mself\u001b[0m\u001b[0;34m,\u001b[0m \u001b[0mtimeout\u001b[0m\u001b[0;34m=\u001b[0m\u001b[0;32mNone\u001b[0m\u001b[0;34m)\u001b[0m\u001b[0;34m:\u001b[0m\u001b[0;34m\u001b[0m\u001b[0;34m\u001b[0m\u001b[0m\n",
            "\u001b[0;32m/usr/lib/python3.6/threading.py\u001b[0m in \u001b[0;36mwait\u001b[0;34m(self, timeout)\u001b[0m\n\u001b[1;32m    549\u001b[0m             \u001b[0msignaled\u001b[0m \u001b[0;34m=\u001b[0m \u001b[0mself\u001b[0m\u001b[0;34m.\u001b[0m\u001b[0m_flag\u001b[0m\u001b[0;34m\u001b[0m\u001b[0;34m\u001b[0m\u001b[0m\n\u001b[1;32m    550\u001b[0m             \u001b[0;32mif\u001b[0m \u001b[0;32mnot\u001b[0m \u001b[0msignaled\u001b[0m\u001b[0;34m:\u001b[0m\u001b[0;34m\u001b[0m\u001b[0;34m\u001b[0m\u001b[0m\n\u001b[0;32m--> 551\u001b[0;31m                 \u001b[0msignaled\u001b[0m \u001b[0;34m=\u001b[0m \u001b[0mself\u001b[0m\u001b[0;34m.\u001b[0m\u001b[0m_cond\u001b[0m\u001b[0;34m.\u001b[0m\u001b[0mwait\u001b[0m\u001b[0;34m(\u001b[0m\u001b[0mtimeout\u001b[0m\u001b[0;34m)\u001b[0m\u001b[0;34m\u001b[0m\u001b[0;34m\u001b[0m\u001b[0m\n\u001b[0m\u001b[1;32m    552\u001b[0m             \u001b[0;32mreturn\u001b[0m \u001b[0msignaled\u001b[0m\u001b[0;34m\u001b[0m\u001b[0;34m\u001b[0m\u001b[0m\n\u001b[1;32m    553\u001b[0m \u001b[0;34m\u001b[0m\u001b[0m\n",
            "\u001b[0;32m/usr/lib/python3.6/threading.py\u001b[0m in \u001b[0;36mwait\u001b[0;34m(self, timeout)\u001b[0m\n\u001b[1;32m    293\u001b[0m         \u001b[0;32mtry\u001b[0m\u001b[0;34m:\u001b[0m    \u001b[0;31m# restore state no matter what (e.g., KeyboardInterrupt)\u001b[0m\u001b[0;34m\u001b[0m\u001b[0;34m\u001b[0m\u001b[0m\n\u001b[1;32m    294\u001b[0m             \u001b[0;32mif\u001b[0m \u001b[0mtimeout\u001b[0m \u001b[0;32mis\u001b[0m \u001b[0;32mNone\u001b[0m\u001b[0;34m:\u001b[0m\u001b[0;34m\u001b[0m\u001b[0;34m\u001b[0m\u001b[0m\n\u001b[0;32m--> 295\u001b[0;31m                 \u001b[0mwaiter\u001b[0m\u001b[0;34m.\u001b[0m\u001b[0macquire\u001b[0m\u001b[0;34m(\u001b[0m\u001b[0;34m)\u001b[0m\u001b[0;34m\u001b[0m\u001b[0;34m\u001b[0m\u001b[0m\n\u001b[0m\u001b[1;32m    296\u001b[0m                 \u001b[0mgotit\u001b[0m \u001b[0;34m=\u001b[0m \u001b[0;32mTrue\u001b[0m\u001b[0;34m\u001b[0m\u001b[0;34m\u001b[0m\u001b[0m\n\u001b[1;32m    297\u001b[0m             \u001b[0;32melse\u001b[0m\u001b[0;34m:\u001b[0m\u001b[0;34m\u001b[0m\u001b[0;34m\u001b[0m\u001b[0m\n",
            "\u001b[0;31mKeyboardInterrupt\u001b[0m: "
          ]
        }
      ]
    },
    {
      "cell_type": "markdown",
      "metadata": {
        "id": "NYdvsc8NdeCS",
        "colab_type": "text"
      },
      "source": [
        "####Parametry modelu"
      ]
    },
    {
      "cell_type": "code",
      "metadata": {
        "id": "PgyduY3d4oUo",
        "colab_type": "code",
        "colab": {}
      },
      "source": [
        "INIT_LR = 1e-3\n",
        "epochs = 130\n",
        "opt = optimizers.Adam(lr=INIT_LR, decay=INIT_LR / epochs)\n",
        "METRICS = 'categorical_accuracy'\n",
        "activation = 'softmax'"
      ],
      "execution_count": 0,
      "outputs": []
    },
    {
      "cell_type": "code",
      "metadata": {
        "id": "JEFsIsUldW2O",
        "colab_type": "code",
        "colab": {}
      },
      "source": [
        "number_of_classes = 8"
      ],
      "execution_count": 0,
      "outputs": []
    },
    {
      "cell_type": "markdown",
      "metadata": {
        "id": "z2lf8GKcXJM2",
        "colab_type": "text"
      },
      "source": [
        "###Model multi-classes classification - własny"
      ]
    },
    {
      "cell_type": "code",
      "metadata": {
        "id": "iwxU5MoBXBgL",
        "colab_type": "code",
        "colab": {}
      },
      "source": [
        "model = models.Sequential()\n",
        "model.add(layers.Conv2D(32, (3, 3), activation='relu', input_shape=(picture_size, picture_size, 3)))\n",
        "model.add(layers.MaxPool2D((2, 2)))\n",
        "model.add(layers.Dropout(0.35))\n",
        "\n",
        "model.add(layers.Conv2D(64, (3, 3), activation='relu'))\n",
        "model.add(layers.MaxPool2D((2, 2)))\n",
        "model.add(layers.Dropout(0.35))\n",
        "\n",
        "model.add(layers.Conv2D(128, (3,3), activation='relu'))\n",
        "model.add(layers.MaxPool2D((2, 2)))\n",
        "model.add(layers.Dropout(0.3))\n",
        "\n",
        "model.add(layers.Conv2D(128, (3,3), activation='relu'))\n",
        "model.add(layers.MaxPool2D((2, 2)))\n",
        "model.add(layers.Dropout(0.3))\n",
        "\n",
        "model.add(layers.Conv2D(128, (3,3), activation='relu'))\n",
        "model.add(layers.MaxPool2D((2, 2)))\n",
        "model.add(layers.Dropout(0.25))\n",
        "\n",
        "model.add(layers.Flatten())\n",
        "model.add(layers.Dense(1024, activation=\"relu\"))\n",
        "model.add(layers.BatchNormalization())\n",
        "model.add(layers.Dropout(0.2))\n",
        "model.add(layers.Dense(number_of_classes))\n",
        "model.add(layers.Activation(activation))\n",
        "\n",
        "model.compile(\n",
        "    loss='categorical_crossentropy',\n",
        "    optimizer=opt,\n",
        "    metrics=[METRICS]\n",
        "    )\n",
        "# model.summary()"
      ],
      "execution_count": 0,
      "outputs": []
    },
    {
      "cell_type": "markdown",
      "metadata": {
        "id": "Zep2Kx6fZVYp",
        "colab_type": "text"
      },
      "source": [
        "###Pretrained model"
      ]
    },
    {
      "cell_type": "code",
      "metadata": {
        "id": "kl5g-tmHZdVB",
        "colab_type": "code",
        "colab": {}
      },
      "source": [
        "from keras.applications import VGG16\n",
        "pretrain_model = VGG16(weights='imagenet',include_top=False,input_shape=(100, 100, 3))"
      ],
      "execution_count": 0,
      "outputs": []
    },
    {
      "cell_type": "code",
      "metadata": {
        "id": "z0U6jTJWZ6mm",
        "colab_type": "code",
        "colab": {}
      },
      "source": [
        "model = models.Sequential()\n",
        "model.add(pretrain_model)\n",
        "model.add(layers.Flatten())\n",
        "model.add(layers.Dense(1024, activation=\"relu\"))\n",
        "model.add(layers.BatchNormalization())\n",
        "model.add(layers.Dropout(0.2))\n",
        "model.add(layers.Dense(number_of_classes))\n",
        "model.add(layers.Activation(activation))\n",
        "model.compile(\n",
        "    loss='categorical_crossentropy',\n",
        "    optimizer=opt,\n",
        "    metrics=['acc']\n",
        "    )\n",
        "model.summary()"
      ],
      "execution_count": 0,
      "outputs": []
    },
    {
      "cell_type": "markdown",
      "metadata": {
        "id": "IkvAD2gnZd60",
        "colab_type": "text"
      },
      "source": [
        "###Fit model"
      ]
    },
    {
      "cell_type": "code",
      "metadata": {
        "id": "gBDd5q9nq23t",
        "colab_type": "code",
        "outputId": "9aff4187-62ea-4a01-8b46-b113b97da555",
        "colab": {
          "base_uri": "https://localhost:8080/",
          "height": 1000
        }
      },
      "source": [
        "history = model.fit_generator(\n",
        "    train_generator,\n",
        "    steps_per_epoch=100,\n",
        "    epochs=epochs,\n",
        "    validation_data=valid_generator,\n",
        "    validation_steps=40\n",
        ")\n",
        "\n",
        "model_name = f'model_signs_9_multi_classes_{activation}_24052020.h5'\n",
        "path_to_save = \"/content/drive/My Drive/Colab Notebooks/Road_sign_rec\"\n",
        "model_path = os.path.join(path_to_save, model_name)\n",
        "model.save(model_path)"
      ],
      "execution_count": 0,
      "outputs": [
        {
          "output_type": "stream",
          "text": [
            "Epoch 1/130\n",
            "100/100 [==============================] - 25s 251ms/step - loss: 1.2559 - categorical_accuracy: 0.6042 - val_loss: 1.6121 - val_categorical_accuracy: 0.3617\n",
            "Epoch 2/130\n",
            "100/100 [==============================] - 23s 231ms/step - loss: 0.8689 - categorical_accuracy: 0.7074 - val_loss: 1.5704 - val_categorical_accuracy: 0.3571\n",
            "Epoch 3/130\n",
            "100/100 [==============================] - 23s 234ms/step - loss: 0.7745 - categorical_accuracy: 0.7282 - val_loss: 1.2672 - val_categorical_accuracy: 0.4226\n",
            "Epoch 4/130\n",
            "100/100 [==============================] - 23s 231ms/step - loss: 0.7336 - categorical_accuracy: 0.7284 - val_loss: 1.2781 - val_categorical_accuracy: 0.5128\n",
            "Epoch 5/130\n",
            "100/100 [==============================] - 24s 239ms/step - loss: 0.6876 - categorical_accuracy: 0.7486 - val_loss: 0.8145 - val_categorical_accuracy: 0.6564\n",
            "Epoch 6/130\n",
            "100/100 [==============================] - 23s 235ms/step - loss: 0.6765 - categorical_accuracy: 0.7575 - val_loss: 0.7926 - val_categorical_accuracy: 0.7015\n",
            "Epoch 7/130\n",
            "100/100 [==============================] - 24s 238ms/step - loss: 0.6528 - categorical_accuracy: 0.7492 - val_loss: 0.8471 - val_categorical_accuracy: 0.6915\n",
            "Epoch 8/130\n",
            "100/100 [==============================] - 23s 232ms/step - loss: 0.6315 - categorical_accuracy: 0.7605 - val_loss: 0.6709 - val_categorical_accuracy: 0.7446\n",
            "Epoch 9/130\n",
            "100/100 [==============================] - 24s 238ms/step - loss: 0.6421 - categorical_accuracy: 0.7541 - val_loss: 0.8106 - val_categorical_accuracy: 0.7630\n",
            "Epoch 10/130\n",
            "100/100 [==============================] - 24s 236ms/step - loss: 0.5911 - categorical_accuracy: 0.7737 - val_loss: 0.6080 - val_categorical_accuracy: 0.7746\n",
            "Epoch 11/130\n",
            "100/100 [==============================] - 24s 244ms/step - loss: 0.5840 - categorical_accuracy: 0.7733 - val_loss: 0.4618 - val_categorical_accuracy: 0.7717\n",
            "Epoch 12/130\n",
            "100/100 [==============================] - 24s 235ms/step - loss: 0.5932 - categorical_accuracy: 0.7668 - val_loss: 0.6226 - val_categorical_accuracy: 0.7721\n",
            "Epoch 13/130\n",
            "100/100 [==============================] - 24s 236ms/step - loss: 0.5664 - categorical_accuracy: 0.7846 - val_loss: 0.5266 - val_categorical_accuracy: 0.7765\n",
            "Epoch 14/130\n",
            "100/100 [==============================] - 23s 232ms/step - loss: 0.5750 - categorical_accuracy: 0.7746 - val_loss: 0.5962 - val_categorical_accuracy: 0.7610\n",
            "Epoch 15/130\n",
            "100/100 [==============================] - 24s 235ms/step - loss: 0.5690 - categorical_accuracy: 0.7756 - val_loss: 0.6747 - val_categorical_accuracy: 0.7777\n",
            "Epoch 16/130\n",
            "100/100 [==============================] - 23s 230ms/step - loss: 0.5400 - categorical_accuracy: 0.7915 - val_loss: 0.5251 - val_categorical_accuracy: 0.7841\n",
            "Epoch 17/130\n",
            "100/100 [==============================] - 24s 236ms/step - loss: 0.5699 - categorical_accuracy: 0.7763 - val_loss: 0.4959 - val_categorical_accuracy: 0.8113\n",
            "Epoch 18/130\n",
            "100/100 [==============================] - 23s 231ms/step - loss: 0.5371 - categorical_accuracy: 0.7856 - val_loss: 0.4885 - val_categorical_accuracy: 0.8200\n",
            "Epoch 19/130\n",
            "100/100 [==============================] - 24s 236ms/step - loss: 0.5195 - categorical_accuracy: 0.8008 - val_loss: 0.4984 - val_categorical_accuracy: 0.8332\n",
            "Epoch 20/130\n",
            "100/100 [==============================] - 23s 233ms/step - loss: 0.5254 - categorical_accuracy: 0.7973 - val_loss: 0.3506 - val_categorical_accuracy: 0.8332\n",
            "Epoch 21/130\n",
            "100/100 [==============================] - 23s 234ms/step - loss: 0.5175 - categorical_accuracy: 0.8018 - val_loss: 0.3534 - val_categorical_accuracy: 0.7809\n",
            "Epoch 22/130\n",
            "100/100 [==============================] - 23s 229ms/step - loss: 0.5115 - categorical_accuracy: 0.8017 - val_loss: 0.4322 - val_categorical_accuracy: 0.8364\n",
            "Epoch 23/130\n",
            "100/100 [==============================] - 24s 237ms/step - loss: 0.4808 - categorical_accuracy: 0.8186 - val_loss: 0.3915 - val_categorical_accuracy: 0.8492\n",
            "Epoch 24/130\n",
            "100/100 [==============================] - 23s 230ms/step - loss: 0.4804 - categorical_accuracy: 0.8158 - val_loss: 0.4514 - val_categorical_accuracy: 0.8384\n",
            "Epoch 25/130\n",
            "100/100 [==============================] - 23s 234ms/step - loss: 0.4678 - categorical_accuracy: 0.8200 - val_loss: 0.2970 - val_categorical_accuracy: 0.8723\n",
            "Epoch 26/130\n",
            "100/100 [==============================] - 23s 228ms/step - loss: 0.4846 - categorical_accuracy: 0.8152 - val_loss: 0.3565 - val_categorical_accuracy: 0.8571\n",
            "Epoch 27/130\n",
            "100/100 [==============================] - 23s 234ms/step - loss: 0.4594 - categorical_accuracy: 0.8217 - val_loss: 0.5540 - val_categorical_accuracy: 0.8392\n",
            "Epoch 28/130\n",
            "100/100 [==============================] - 23s 232ms/step - loss: 0.4704 - categorical_accuracy: 0.8205 - val_loss: 0.3293 - val_categorical_accuracy: 0.8719\n",
            "Epoch 29/130\n",
            "100/100 [==============================] - 24s 235ms/step - loss: 0.4484 - categorical_accuracy: 0.8244 - val_loss: 0.4549 - val_categorical_accuracy: 0.8703\n",
            "Epoch 30/130\n",
            "100/100 [==============================] - 23s 229ms/step - loss: 0.4528 - categorical_accuracy: 0.8266 - val_loss: 0.3695 - val_categorical_accuracy: 0.8875\n",
            "Epoch 31/130\n",
            "100/100 [==============================] - 23s 229ms/step - loss: 0.4380 - categorical_accuracy: 0.8268 - val_loss: 0.3539 - val_categorical_accuracy: 0.8563\n",
            "Epoch 32/130\n",
            "100/100 [==============================] - 24s 239ms/step - loss: 0.4380 - categorical_accuracy: 0.8319 - val_loss: 0.2853 - val_categorical_accuracy: 0.8767\n",
            "Epoch 33/130\n",
            "100/100 [==============================] - 24s 236ms/step - loss: 0.4429 - categorical_accuracy: 0.8363 - val_loss: 0.2797 - val_categorical_accuracy: 0.9082\n",
            "Epoch 34/130\n",
            "100/100 [==============================] - 24s 238ms/step - loss: 0.4373 - categorical_accuracy: 0.8340 - val_loss: 0.3321 - val_categorical_accuracy: 0.9090\n",
            "Epoch 35/130\n",
            "100/100 [==============================] - 24s 244ms/step - loss: 0.4245 - categorical_accuracy: 0.8415 - val_loss: 0.2077 - val_categorical_accuracy: 0.8671\n",
            "Epoch 36/130\n",
            "100/100 [==============================] - 24s 242ms/step - loss: 0.4137 - categorical_accuracy: 0.8448 - val_loss: 0.3180 - val_categorical_accuracy: 0.9030\n",
            "Epoch 37/130\n",
            "100/100 [==============================] - 25s 248ms/step - loss: 0.4151 - categorical_accuracy: 0.8453 - val_loss: 0.3089 - val_categorical_accuracy: 0.9055\n",
            "Epoch 38/130\n",
            "100/100 [==============================] - 24s 240ms/step - loss: 0.3947 - categorical_accuracy: 0.8513 - val_loss: 0.2569 - val_categorical_accuracy: 0.9074\n",
            "Epoch 39/130\n",
            "100/100 [==============================] - 25s 247ms/step - loss: 0.3852 - categorical_accuracy: 0.8540 - val_loss: 0.2661 - val_categorical_accuracy: 0.9234\n",
            "Epoch 40/130\n",
            "100/100 [==============================] - 24s 242ms/step - loss: 0.3785 - categorical_accuracy: 0.8620 - val_loss: 0.2767 - val_categorical_accuracy: 0.9130\n",
            "Epoch 41/130\n",
            "100/100 [==============================] - 25s 253ms/step - loss: 0.3935 - categorical_accuracy: 0.8559 - val_loss: 0.2939 - val_categorical_accuracy: 0.9194\n",
            "Epoch 42/130\n",
            "100/100 [==============================] - 24s 244ms/step - loss: 0.4100 - categorical_accuracy: 0.8479 - val_loss: 0.2180 - val_categorical_accuracy: 0.9222\n",
            "Epoch 43/130\n",
            "100/100 [==============================] - 25s 251ms/step - loss: 0.3774 - categorical_accuracy: 0.8628 - val_loss: 0.3340 - val_categorical_accuracy: 0.9118\n",
            "Epoch 44/130\n",
            "100/100 [==============================] - 24s 243ms/step - loss: 0.3869 - categorical_accuracy: 0.8573 - val_loss: 0.2388 - val_categorical_accuracy: 0.9270\n",
            "Epoch 45/130\n",
            "100/100 [==============================] - 25s 253ms/step - loss: 0.3681 - categorical_accuracy: 0.8631 - val_loss: 0.7418 - val_categorical_accuracy: 0.9094\n",
            "Epoch 46/130\n",
            "100/100 [==============================] - 24s 236ms/step - loss: 0.3738 - categorical_accuracy: 0.8628 - val_loss: 0.3742 - val_categorical_accuracy: 0.9285\n",
            "Epoch 47/130\n",
            "100/100 [==============================] - 25s 255ms/step - loss: 0.3669 - categorical_accuracy: 0.8615 - val_loss: 0.2714 - val_categorical_accuracy: 0.9334\n",
            "Epoch 48/130\n",
            "100/100 [==============================] - 24s 239ms/step - loss: 0.3622 - categorical_accuracy: 0.8676 - val_loss: 0.2014 - val_categorical_accuracy: 0.9401\n",
            "Epoch 49/130\n",
            "100/100 [==============================] - 25s 247ms/step - loss: 0.3532 - categorical_accuracy: 0.8669 - val_loss: 0.2054 - val_categorical_accuracy: 0.9322\n",
            "Epoch 50/130\n",
            "100/100 [==============================] - 24s 243ms/step - loss: 0.3438 - categorical_accuracy: 0.8761 - val_loss: 0.1794 - val_categorical_accuracy: 0.9417\n",
            "Epoch 51/130\n",
            "100/100 [==============================] - 24s 243ms/step - loss: 0.3459 - categorical_accuracy: 0.8714 - val_loss: 0.2014 - val_categorical_accuracy: 0.9429\n",
            "Epoch 52/130\n",
            "100/100 [==============================] - 24s 239ms/step - loss: 0.3552 - categorical_accuracy: 0.8712 - val_loss: 0.3057 - val_categorical_accuracy: 0.9525\n",
            "Epoch 53/130\n",
            "100/100 [==============================] - 25s 245ms/step - loss: 0.3288 - categorical_accuracy: 0.8792 - val_loss: 0.2114 - val_categorical_accuracy: 0.9389\n",
            "Epoch 54/130\n",
            "100/100 [==============================] - 24s 241ms/step - loss: 0.3424 - categorical_accuracy: 0.8799 - val_loss: 0.5039 - val_categorical_accuracy: 0.9393\n",
            "Epoch 55/130\n",
            "100/100 [==============================] - 25s 246ms/step - loss: 0.3217 - categorical_accuracy: 0.8830 - val_loss: 0.0594 - val_categorical_accuracy: 0.9469\n",
            "Epoch 56/130\n",
            "100/100 [==============================] - 24s 243ms/step - loss: 0.3300 - categorical_accuracy: 0.8795 - val_loss: 0.0871 - val_categorical_accuracy: 0.9481\n",
            "Epoch 57/130\n",
            "100/100 [==============================] - 25s 246ms/step - loss: 0.3319 - categorical_accuracy: 0.8806 - val_loss: 0.1524 - val_categorical_accuracy: 0.9477\n",
            "Epoch 58/130\n",
            "100/100 [==============================] - 24s 242ms/step - loss: 0.3277 - categorical_accuracy: 0.8827 - val_loss: 0.2134 - val_categorical_accuracy: 0.9350\n",
            "Epoch 59/130\n",
            "100/100 [==============================] - 24s 242ms/step - loss: 0.3450 - categorical_accuracy: 0.8763 - val_loss: 0.1605 - val_categorical_accuracy: 0.9433\n",
            "Epoch 60/130\n",
            "100/100 [==============================] - 25s 245ms/step - loss: 0.2969 - categorical_accuracy: 0.8891 - val_loss: 0.2156 - val_categorical_accuracy: 0.9601\n",
            "Epoch 61/130\n",
            "100/100 [==============================] - 24s 241ms/step - loss: 0.3173 - categorical_accuracy: 0.8836 - val_loss: 0.1197 - val_categorical_accuracy: 0.9501\n",
            "Epoch 62/130\n",
            "100/100 [==============================] - 24s 244ms/step - loss: 0.3230 - categorical_accuracy: 0.8861 - val_loss: 0.1415 - val_categorical_accuracy: 0.9565\n",
            "Epoch 63/130\n",
            "100/100 [==============================] - 24s 243ms/step - loss: 0.3074 - categorical_accuracy: 0.8878 - val_loss: 0.1062 - val_categorical_accuracy: 0.9597\n",
            "Epoch 64/130\n",
            "100/100 [==============================] - 24s 241ms/step - loss: 0.3062 - categorical_accuracy: 0.8924 - val_loss: 0.1298 - val_categorical_accuracy: 0.9555\n",
            "Epoch 65/130\n",
            "100/100 [==============================] - 24s 244ms/step - loss: 0.3074 - categorical_accuracy: 0.8885 - val_loss: 0.2157 - val_categorical_accuracy: 0.9601\n",
            "Epoch 66/130\n",
            "100/100 [==============================] - 24s 240ms/step - loss: 0.2843 - categorical_accuracy: 0.8961 - val_loss: 0.0696 - val_categorical_accuracy: 0.9593\n",
            "Epoch 67/130\n",
            "100/100 [==============================] - 23s 233ms/step - loss: 0.2996 - categorical_accuracy: 0.8913 - val_loss: 0.1025 - val_categorical_accuracy: 0.9565\n",
            "Epoch 68/130\n",
            "100/100 [==============================] - 24s 238ms/step - loss: 0.2925 - categorical_accuracy: 0.9004 - val_loss: 0.0716 - val_categorical_accuracy: 0.9625\n",
            "Epoch 69/130\n",
            "100/100 [==============================] - 23s 234ms/step - loss: 0.3015 - categorical_accuracy: 0.8947 - val_loss: 0.0732 - val_categorical_accuracy: 0.9621\n",
            "Epoch 70/130\n",
            "100/100 [==============================] - 24s 239ms/step - loss: 0.2910 - categorical_accuracy: 0.8954 - val_loss: 0.2488 - val_categorical_accuracy: 0.9717\n",
            "Epoch 71/130\n",
            "100/100 [==============================] - 24s 235ms/step - loss: 0.2823 - categorical_accuracy: 0.8968 - val_loss: 0.1031 - val_categorical_accuracy: 0.9617\n",
            "Epoch 72/130\n",
            "100/100 [==============================] - 24s 237ms/step - loss: 0.2665 - categorical_accuracy: 0.9081 - val_loss: 0.2142 - val_categorical_accuracy: 0.9593\n",
            "Epoch 73/130\n",
            "100/100 [==============================] - 24s 236ms/step - loss: 0.2889 - categorical_accuracy: 0.8969 - val_loss: 0.0868 - val_categorical_accuracy: 0.9559\n",
            "Epoch 74/130\n",
            "100/100 [==============================] - 24s 239ms/step - loss: 0.2795 - categorical_accuracy: 0.9029 - val_loss: 0.1377 - val_categorical_accuracy: 0.9565\n",
            "Epoch 75/130\n",
            "100/100 [==============================] - 23s 233ms/step - loss: 0.2866 - categorical_accuracy: 0.9018 - val_loss: 0.1148 - val_categorical_accuracy: 0.9609\n",
            "Epoch 76/130\n",
            "100/100 [==============================] - 24s 236ms/step - loss: 0.2616 - categorical_accuracy: 0.9062 - val_loss: 0.0663 - val_categorical_accuracy: 0.9613\n",
            "Epoch 77/130\n",
            "100/100 [==============================] - 23s 228ms/step - loss: 0.2589 - categorical_accuracy: 0.9089 - val_loss: 0.1037 - val_categorical_accuracy: 0.9649\n",
            "Epoch 78/130\n",
            "100/100 [==============================] - 24s 238ms/step - loss: 0.2713 - categorical_accuracy: 0.9074 - val_loss: 0.3076 - val_categorical_accuracy: 0.9677\n",
            "Epoch 79/130\n",
            "100/100 [==============================] - 23s 231ms/step - loss: 0.2709 - categorical_accuracy: 0.9051 - val_loss: 0.1981 - val_categorical_accuracy: 0.9609\n",
            "Epoch 80/130\n",
            "100/100 [==============================] - 24s 238ms/step - loss: 0.2785 - categorical_accuracy: 0.9023 - val_loss: 0.0719 - val_categorical_accuracy: 0.9713\n",
            "Epoch 81/130\n",
            "100/100 [==============================] - 23s 230ms/step - loss: 0.2774 - categorical_accuracy: 0.8998 - val_loss: 0.5254 - val_categorical_accuracy: 0.9641\n",
            "Epoch 82/130\n",
            "100/100 [==============================] - 24s 237ms/step - loss: 0.2738 - categorical_accuracy: 0.9059 - val_loss: 0.0988 - val_categorical_accuracy: 0.9676\n",
            "Epoch 83/130\n",
            "100/100 [==============================] - 24s 236ms/step - loss: 0.2520 - categorical_accuracy: 0.9116 - val_loss: 0.0549 - val_categorical_accuracy: 0.9605\n",
            "Epoch 84/130\n",
            "100/100 [==============================] - 24s 235ms/step - loss: 0.2475 - categorical_accuracy: 0.9147 - val_loss: 0.1139 - val_categorical_accuracy: 0.9705\n",
            "Epoch 85/130\n",
            "100/100 [==============================] - 23s 230ms/step - loss: 0.2539 - categorical_accuracy: 0.9119 - val_loss: 0.1317 - val_categorical_accuracy: 0.9705\n",
            "Epoch 86/130\n",
            "100/100 [==============================] - 24s 238ms/step - loss: 0.2373 - categorical_accuracy: 0.9124 - val_loss: 0.1011 - val_categorical_accuracy: 0.9749\n",
            "Epoch 87/130\n",
            "100/100 [==============================] - 23s 233ms/step - loss: 0.2469 - categorical_accuracy: 0.9144 - val_loss: 0.0411 - val_categorical_accuracy: 0.9649\n",
            "Epoch 88/130\n",
            "100/100 [==============================] - 24s 238ms/step - loss: 0.2412 - categorical_accuracy: 0.9166 - val_loss: 0.1249 - val_categorical_accuracy: 0.9717\n",
            "Epoch 89/130\n",
            "100/100 [==============================] - 23s 230ms/step - loss: 0.2391 - categorical_accuracy: 0.9157 - val_loss: 0.1107 - val_categorical_accuracy: 0.9673\n",
            "Epoch 90/130\n",
            "100/100 [==============================] - 24s 238ms/step - loss: 0.2397 - categorical_accuracy: 0.9147 - val_loss: 0.0302 - val_categorical_accuracy: 0.9661\n",
            "Epoch 91/130\n",
            "100/100 [==============================] - 23s 233ms/step - loss: 0.2397 - categorical_accuracy: 0.9198 - val_loss: 0.0450 - val_categorical_accuracy: 0.9684\n",
            "Epoch 92/130\n",
            "100/100 [==============================] - 23s 234ms/step - loss: 0.2372 - categorical_accuracy: 0.9204 - val_loss: 0.3713 - val_categorical_accuracy: 0.9721\n",
            "Epoch 93/130\n",
            "100/100 [==============================] - 25s 250ms/step - loss: 0.2470 - categorical_accuracy: 0.9131 - val_loss: 0.0616 - val_categorical_accuracy: 0.9761\n",
            "Epoch 94/130\n",
            "100/100 [==============================] - 24s 238ms/step - loss: 0.2378 - categorical_accuracy: 0.9160 - val_loss: 0.0635 - val_categorical_accuracy: 0.9701\n",
            "Epoch 95/130\n",
            "100/100 [==============================] - 23s 233ms/step - loss: 0.2364 - categorical_accuracy: 0.9142 - val_loss: 0.1268 - val_categorical_accuracy: 0.9681\n",
            "Epoch 96/130\n",
            "100/100 [==============================] - 24s 240ms/step - loss: 0.2353 - categorical_accuracy: 0.9162 - val_loss: 0.0618 - val_categorical_accuracy: 0.9733\n",
            "Epoch 97/130\n",
            "100/100 [==============================] - 24s 237ms/step - loss: 0.2324 - categorical_accuracy: 0.9219 - val_loss: 0.1313 - val_categorical_accuracy: 0.9725\n",
            "Epoch 98/130\n",
            "100/100 [==============================] - 24s 236ms/step - loss: 0.2384 - categorical_accuracy: 0.9139 - val_loss: 0.3398 - val_categorical_accuracy: 0.9749\n",
            "Epoch 99/130\n",
            "100/100 [==============================] - 23s 232ms/step - loss: 0.2346 - categorical_accuracy: 0.9176 - val_loss: 0.1185 - val_categorical_accuracy: 0.9737\n",
            "Epoch 100/130\n",
            "100/100 [==============================] - 24s 238ms/step - loss: 0.2232 - categorical_accuracy: 0.9218 - val_loss: 0.1224 - val_categorical_accuracy: 0.9641\n",
            "Epoch 101/130\n",
            "100/100 [==============================] - 23s 234ms/step - loss: 0.2347 - categorical_accuracy: 0.9168 - val_loss: 0.0790 - val_categorical_accuracy: 0.9729\n",
            "Epoch 102/130\n",
            "100/100 [==============================] - 24s 237ms/step - loss: 0.2274 - categorical_accuracy: 0.9203 - val_loss: 0.0372 - val_categorical_accuracy: 0.9697\n",
            "Epoch 103/130\n",
            "100/100 [==============================] - 23s 230ms/step - loss: 0.2276 - categorical_accuracy: 0.9215 - val_loss: 0.2300 - val_categorical_accuracy: 0.9709\n",
            "Epoch 104/130\n",
            "100/100 [==============================] - 24s 238ms/step - loss: 0.2212 - categorical_accuracy: 0.9280 - val_loss: 0.0612 - val_categorical_accuracy: 0.9673\n",
            "Epoch 105/130\n",
            "100/100 [==============================] - 23s 233ms/step - loss: 0.2195 - categorical_accuracy: 0.9248 - val_loss: 0.1385 - val_categorical_accuracy: 0.9741\n",
            "Epoch 106/130\n",
            "100/100 [==============================] - 24s 236ms/step - loss: 0.2172 - categorical_accuracy: 0.9278 - val_loss: 0.0365 - val_categorical_accuracy: 0.9741\n",
            "Epoch 107/130\n",
            "100/100 [==============================] - 23s 231ms/step - loss: 0.2154 - categorical_accuracy: 0.9244 - val_loss: 0.0233 - val_categorical_accuracy: 0.9769\n",
            "Epoch 108/130\n",
            "100/100 [==============================] - 23s 235ms/step - loss: 0.2354 - categorical_accuracy: 0.9221 - val_loss: 0.0171 - val_categorical_accuracy: 0.9761\n",
            "Epoch 109/130\n",
            "100/100 [==============================] - 23s 232ms/step - loss: 0.2182 - categorical_accuracy: 0.9253 - val_loss: 0.0885 - val_categorical_accuracy: 0.9789\n",
            "Epoch 110/130\n",
            "100/100 [==============================] - 24s 240ms/step - loss: 0.2124 - categorical_accuracy: 0.9306 - val_loss: 0.0605 - val_categorical_accuracy: 0.9697\n",
            "Epoch 111/130\n",
            "100/100 [==============================] - 23s 230ms/step - loss: 0.2221 - categorical_accuracy: 0.9276 - val_loss: 0.1839 - val_categorical_accuracy: 0.9697\n",
            "Epoch 112/130\n",
            "100/100 [==============================] - 24s 235ms/step - loss: 0.2269 - categorical_accuracy: 0.9242 - val_loss: 0.0904 - val_categorical_accuracy: 0.9705\n",
            "Epoch 113/130\n",
            "100/100 [==============================] - 23s 232ms/step - loss: 0.2151 - categorical_accuracy: 0.9253 - val_loss: 0.2025 - val_categorical_accuracy: 0.9769\n",
            "Epoch 114/130\n",
            "100/100 [==============================] - 24s 236ms/step - loss: 0.2065 - categorical_accuracy: 0.9297 - val_loss: 0.0837 - val_categorical_accuracy: 0.9781\n",
            "Epoch 115/130\n",
            "100/100 [==============================] - 23s 231ms/step - loss: 0.2173 - categorical_accuracy: 0.9259 - val_loss: 0.0577 - val_categorical_accuracy: 0.9717\n",
            "Epoch 116/130\n",
            "100/100 [==============================] - 24s 237ms/step - loss: 0.2206 - categorical_accuracy: 0.9258 - val_loss: 0.0683 - val_categorical_accuracy: 0.9777\n",
            "Epoch 117/130\n",
            "100/100 [==============================] - 23s 234ms/step - loss: 0.2264 - categorical_accuracy: 0.9228 - val_loss: 0.3273 - val_categorical_accuracy: 0.9745\n",
            "Epoch 118/130\n",
            "100/100 [==============================] - 24s 240ms/step - loss: 0.2216 - categorical_accuracy: 0.9261 - val_loss: 0.0548 - val_categorical_accuracy: 0.9766\n",
            "Epoch 119/130\n",
            "100/100 [==============================] - 24s 238ms/step - loss: 0.2008 - categorical_accuracy: 0.9345 - val_loss: 0.2756 - val_categorical_accuracy: 0.9761\n",
            "Epoch 120/130\n",
            "100/100 [==============================] - 24s 239ms/step - loss: 0.2051 - categorical_accuracy: 0.9306 - val_loss: 0.0841 - val_categorical_accuracy: 0.9745\n",
            "Epoch 121/130\n",
            "100/100 [==============================] - 23s 232ms/step - loss: 0.2013 - categorical_accuracy: 0.9337 - val_loss: 0.0915 - val_categorical_accuracy: 0.9741\n",
            "Epoch 122/130\n",
            "100/100 [==============================] - 24s 238ms/step - loss: 0.2103 - categorical_accuracy: 0.9292 - val_loss: 0.2082 - val_categorical_accuracy: 0.9769\n",
            "Epoch 123/130\n",
            "100/100 [==============================] - 23s 232ms/step - loss: 0.2054 - categorical_accuracy: 0.9268 - val_loss: 0.4053 - val_categorical_accuracy: 0.9808\n",
            "Epoch 124/130\n",
            "100/100 [==============================] - 24s 236ms/step - loss: 0.1999 - categorical_accuracy: 0.9333 - val_loss: 0.0436 - val_categorical_accuracy: 0.9725\n",
            "Epoch 125/130\n",
            "100/100 [==============================] - 23s 233ms/step - loss: 0.2172 - categorical_accuracy: 0.9250 - val_loss: 0.0438 - val_categorical_accuracy: 0.9765\n",
            "Epoch 126/130\n",
            "100/100 [==============================] - 24s 237ms/step - loss: 0.1836 - categorical_accuracy: 0.9342 - val_loss: 0.0397 - val_categorical_accuracy: 0.9745\n",
            "Epoch 127/130\n",
            "100/100 [==============================] - 23s 231ms/step - loss: 0.2126 - categorical_accuracy: 0.9278 - val_loss: 0.1262 - val_categorical_accuracy: 0.9789\n",
            "Epoch 128/130\n",
            "100/100 [==============================] - 24s 239ms/step - loss: 0.2097 - categorical_accuracy: 0.9295 - val_loss: 0.0557 - val_categorical_accuracy: 0.9777\n",
            "Epoch 129/130\n",
            "100/100 [==============================] - 23s 230ms/step - loss: 0.2055 - categorical_accuracy: 0.9306 - val_loss: 0.0353 - val_categorical_accuracy: 0.9792\n",
            "Epoch 130/130\n",
            "100/100 [==============================] - 23s 234ms/step - loss: 0.1985 - categorical_accuracy: 0.9355 - val_loss: 0.2074 - val_categorical_accuracy: 0.9749\n"
          ],
          "name": "stdout"
        }
      ]
    },
    {
      "cell_type": "markdown",
      "metadata": {
        "id": "LUtd1wwJeS4I",
        "colab_type": "text"
      },
      "source": [
        "###Sprawdzenie modelu"
      ]
    },
    {
      "cell_type": "markdown",
      "metadata": {
        "id": "h-LyI_lDeePo",
        "colab_type": "text"
      },
      "source": [
        "####Przebieg uczenia \n"
      ]
    },
    {
      "cell_type": "code",
      "metadata": {
        "id": "xgrk-WiNuPqX",
        "colab_type": "code",
        "outputId": "8d2fa2b8-77fd-4faf-9e23-0a2ff72ac842",
        "colab": {
          "base_uri": "https://localhost:8080/",
          "height": 419
        }
      },
      "source": [
        "fig = plt.figure(figsize=(12,6))\n",
        "plt.subplot(2,1,1)\n",
        "plt.plot(history.history['categorical_accuracy'])\n",
        "plt.plot(history.history['val_categorical_accuracy'])\n",
        "plt.title('model accuracy')\n",
        "plt.ylabel('accuracy')\n",
        "plt.xlabel('epoch')\n",
        "plt.legend(['train', 'test'], loc='lower right')\n",
        "\n",
        "plt.subplot(2,1,2)\n",
        "plt.plot(history.history['loss'])\n",
        "plt.plot(history.history['val_loss'])\n",
        "plt.title('model loss')\n",
        "plt.ylabel('loss')\n",
        "plt.xlabel('epoch')\n",
        "plt.legend(['train', 'test'], loc='upper right')\n",
        "\n",
        "plt.tight_layout()\n",
        "\n"
      ],
      "execution_count": 0,
      "outputs": [
        {
          "output_type": "display_data",
          "data": {
            "image/png": "[encoded data removed]",
            "text/plain": [
              "<Figure size 864x432 with 2 Axes>"
            ]
          },
          "metadata": {
            "tags": [],
            "needs_background": "light"
          }
        }
      ]
    },
    {
      "cell_type": "markdown",
      "metadata": {
        "id": "RfMzRbAhfC9e",
        "colab_type": "text"
      },
      "source": [
        "####Testowanie modelu"
      ]
    },
    {
      "cell_type": "code",
      "metadata": {
        "id": "SVMbtjGN4FKU",
        "colab_type": "code",
        "outputId": "a30cbf2e-2ca7-4fa3-8b4a-a46833e8f8da",
        "colab": {
          "base_uri": "https://localhost:8080/",
          "height": 237
        }
      },
      "source": [
        "test_datagen = ImageDataGenerator(rescale=1./255)\n",
        "\n",
        "test_generator = test_datagen.flow_from_directory(\n",
        "        test_dir,\n",
        "        target_size=(picture_size, picture_size),\n",
        "        color_mode=\"rgb\",\n",
        "        shuffle = False,\n",
        "        class_mode='categorical',\n",
        "        batch_size=1,\n",
        "        )\n",
        "\n",
        "filenames = test_generator.filenames\n",
        "classes_gen = test_generator.class_indices\n",
        "loss_acc = model.evaluate(test_generator)\n",
        "print(classes_gen)\n",
        "print('loss= ', loss_acc[0])\n",
        "print(\"acc= \", loss_acc[1])"
      ],
      "execution_count": 0,
      "outputs": [
        {
          "output_type": "error",
          "ename": "NameError",
          "evalue": "ignored",
          "traceback": [
            "\u001b[0;31m---------------------------------------------------------------------------\u001b[0m",
            "\u001b[0;31mNameError\u001b[0m                                 Traceback (most recent call last)",
            "\u001b[0;32m<ipython-input-18-cbb7986132b6>\u001b[0m in \u001b[0;36m<module>\u001b[0;34m()\u001b[0m\n\u001b[1;32m      2\u001b[0m \u001b[0;34m\u001b[0m\u001b[0m\n\u001b[1;32m      3\u001b[0m test_generator = test_datagen.flow_from_directory(\n\u001b[0;32m----> 4\u001b[0;31m         \u001b[0mtest_dir\u001b[0m\u001b[0;34m,\u001b[0m\u001b[0;34m\u001b[0m\u001b[0;34m\u001b[0m\u001b[0m\n\u001b[0m\u001b[1;32m      5\u001b[0m         \u001b[0mtarget_size\u001b[0m\u001b[0;34m=\u001b[0m\u001b[0;34m(\u001b[0m\u001b[0mpicture_size\u001b[0m\u001b[0;34m,\u001b[0m \u001b[0mpicture_size\u001b[0m\u001b[0;34m)\u001b[0m\u001b[0;34m,\u001b[0m\u001b[0;34m\u001b[0m\u001b[0;34m\u001b[0m\u001b[0m\n\u001b[1;32m      6\u001b[0m         \u001b[0mcolor_mode\u001b[0m\u001b[0;34m=\u001b[0m\u001b[0;34m\"rgb\"\u001b[0m\u001b[0;34m,\u001b[0m\u001b[0;34m\u001b[0m\u001b[0;34m\u001b[0m\u001b[0m\n",
            "\u001b[0;31mNameError\u001b[0m: name 'test_dir' is not defined"
          ]
        }
      ]
    },
    {
      "cell_type": "code",
      "metadata": {
        "id": "xRrryWRVsFDt",
        "colab_type": "code",
        "outputId": "5656528e-0167-4fa5-e371-19588fd8159e",
        "colab": {
          "base_uri": "https://localhost:8080/",
          "height": 156
        }
      },
      "source": [
        "predict = model.predict_generator(test_generator,steps = len(filenames))\n",
        "predict"
      ],
      "execution_count": 0,
      "outputs": [
        {
          "output_type": "execute_result",
          "data": {
            "text/plain": [
              "array([[9.9915874e-01, 4.6842673e-13, 3.1609804e-12, 2.2462783e-11],\n",
              "       [9.3389958e-01, 4.9212042e-07, 8.4070225e-06, 1.0716711e-06],\n",
              "       [9.8466194e-01, 6.9712502e-09, 6.0307585e-08, 1.9771484e-08],\n",
              "       ...,\n",
              "       [1.5384682e-09, 1.2227581e-11, 1.4416462e-11, 9.9999988e-01],\n",
              "       [4.7219624e-03, 7.7082851e-04, 1.3636227e-01, 6.2290853e-01],\n",
              "       [6.9285288e-06, 5.3450655e-08, 1.8193723e-06, 9.9975032e-01]],\n",
              "      dtype=float32)"
            ]
          },
          "metadata": {
            "tags": []
          },
          "execution_count": 42
        }
      ]
    },
    {
      "cell_type": "code",
      "metadata": {
        "id": "nasmaaVB5sIy",
        "colab_type": "code",
        "outputId": "a9b493d4-b8d7-4ae0-b7cc-f440a81b274c",
        "colab": {
          "base_uri": "https://localhost:8080/",
          "height": 173
        }
      },
      "source": [
        "from google.colab.patches import cv2_imshow\n",
        "\n",
        "signs = test_generator.class_indices\n",
        "memo_correct_percent = {}\n",
        "for sign in signs:\n",
        "  files = os.path.join(test_dir, sign)\n",
        "  test_files = os.listdir(files)\n",
        "  incorrect = 0\n",
        "  for f in test_files:\n",
        "    path_to_test = os.path.join(files, f)\n",
        "    img = cv2.imread(path_to_test)\n",
        "    img_rgb = cv2.cvtColor(img, cv2.COLOR_BGR2RGB)\n",
        "    img_resized = cv2.resize(img_rgb,(picture_size,picture_size))\n",
        "    img_resized_float = img_resized.astype(\"float32\") / 255\n",
        "    img_tensor = np.reshape(img_resized_float,[1,picture_size,picture_size,3])\n",
        "    classes = (model.predict_classes(img_tensor)).tolist()\n",
        "    for num, class_ in enumerate(signs):\n",
        "      if classes[0] == num:\n",
        "        classes = list(signs.keys())[list(signs.values()).index(num)]\n",
        "    else:\n",
        "      classes\n",
        "    if classes != sign:\n",
        "      # cv2_imshow(img)\n",
        "      incorrect += 1 \n",
        "  corrent_percent = round(100-(incorrect/len(test_files)*100))\n",
        "  memo_correct_percent[sign] = corrent_percent\n",
        "  print(f'{sign}: {incorrect} / {len(test_files)},  Correct: {corrent_percent}%')\n",
        "mean_correct_percent = round(sum(memo_correct_percent.values()) / len(signs), 1)\n",
        "print(f'Mean correct predict: {mean_correct_percent}%')"
      ],
      "execution_count": 0,
      "outputs": [
        {
          "output_type": "stream",
          "text": [
            "cross: 13 / 388,  Correct: 97%\n",
            "limit40: 5 / 98,  Correct: 95%\n",
            "limit50: 5 / 111,  Correct: 95%\n",
            "limit60: 12 / 65,  Correct: 82%\n",
            "limit70: 4 / 34,  Correct: 88%\n",
            "limit80: 7 / 41,  Correct: 83%\n",
            "nosign: 6 / 813,  Correct: 99%\n",
            "stop: 4 / 167,  Correct: 98%\n",
            "Mean correct predict: 92.1%\n"
          ],
          "name": "stdout"
        }
      ]
    },
    {
      "cell_type": "markdown",
      "metadata": {
        "id": "57sqxKgIeiIU",
        "colab_type": "text"
      },
      "source": [
        "###Zapis modelu i wag"
      ]
    },
    {
      "cell_type": "code",
      "metadata": {
        "id": "jViqYOilFGvH",
        "colab_type": "code",
        "colab": {}
      },
      "source": [
        "model_name_json = 'model_5conv.json'\n",
        "model_path = os.path.join(base_dir, model_name_json)\n",
        "json_config = model.to_json()\n",
        "with open(model_path, 'w') as json_file:\n",
        "    json_file.write(json_config)"
      ],
      "execution_count": 0,
      "outputs": []
    },
    {
      "cell_type": "code",
      "metadata": {
        "id": "HQh5u5qc36F4",
        "colab_type": "code",
        "colab": {}
      },
      "source": [
        "model_name = 'model_signs_4_classes.h5'\n",
        "model_path = os.path.join(base_dir, model_name)\n",
        "model.save(model_path)"
      ],
      "execution_count": 0,
      "outputs": []
    },
    {
      "cell_type": "code",
      "metadata": {
        "id": "ckNC7f9KaBfo",
        "colab_type": "code",
        "colab": {}
      },
      "source": [
        "model_name = 'model_signs_4_multi_classes_softmax.h5'\n",
        "model_path = os.path.join(base_dir, model_name)\n",
        "model.save(model_path)"
      ],
      "execution_count": 0,
      "outputs": []
    },
    {
      "cell_type": "code",
      "metadata": {
        "id": "1EtyyAH1Tx4m",
        "colab_type": "code",
        "colab": {}
      },
      "source": [
        "model_name = 'model_signs_4_multi_classes_sigmoid.h5'\n",
        "model_path = os.path.join(base_dir, model_name)\n",
        "model.save(model_path)"
      ],
      "execution_count": 0,
      "outputs": []
    },
    {
      "cell_type": "code",
      "metadata": {
        "id": "hOS4hhKMOe6U",
        "colab_type": "code",
        "colab": {}
      },
      "source": [
        "model.load_weights('/content/drive/My Drive/Colab Notebooks/Road_sign_rec/model_signs_9_classe_sigmoid_23052020.h5')"
      ],
      "execution_count": 0,
      "outputs": []
    },
    {
      "cell_type": "code",
      "metadata": {
        "id": "vhEm1sl86NmF",
        "colab_type": "code",
        "colab": {}
      },
      "source": [
        "figure = plt.figure()\n",
        "files = os.path.join(test_dir, 'cross')\n",
        "test_files = os.listdir(files)\n",
        "path_to_test = os.path.join(files, test_files[100])\n",
        "img = cv2.imread(path_to_test)\n",
        "img = cv2.cvtColor(img, cv2.COLOR_BGR2RGB)\n",
        "img = cv2.resize(img,(picture_size,picture_size))\n",
        "plt.imshow(img)\n",
        "plt.show()\n"
      ],
      "execution_count": 0,
      "outputs": []
    },
    {
      "cell_type": "markdown",
      "metadata": {
        "id": "0qGf-UsIqdzp",
        "colab_type": "text"
      },
      "source": [
        "###Poprzednie wyniki do porównania"
      ]
    },
    {
      "cell_type": "code",
      "metadata": {
        "id": "GUMJSf5G15Vw",
        "colab_type": "code",
        "colab": {}
      },
      "source": [
        "last sigmoi:\n",
        "new drop\n",
        "limit50: 0 / 111,  Correct: 100%\n",
        "stop: 4 / 167,  Correct: 98%\n",
        "cross: 9 / 388,  Correct: 98%\n",
        "nosign: 4 / 780,  Correct: 99%\n",
        "\n",
        "vgg:\n",
        "limit50: 0 / 111,  Correct: 100%\n",
        "stop: 6 / 167,  Correct: 96%\n",
        "cross: 11 / 388,  Correct: 97%\n",
        "nosign: 17 / 780,  Correct: 98%\n",
        "\n",
        "limit50: 0 / 111,  Correct: 100%\n",
        "stop: 5 / 167,  Correct: 97%\n",
        "cross: 6 / 388,  Correct: 98%\n",
        "nosign: 10 / 729,  Correct: 99%\n",
        "\n",
        "limit50: 8 / 111,  Correct: 93%\n",
        "stop: 7 / 167,  Correct: 96%\n",
        "cross: 45 / 388,  Correct: 88%\n",
        "nosign: 24 / 729,  Correct: 97%\n",
        "\n",
        "last softmax:\n",
        "new drop\n",
        "limit50: 4 / 111,  Correct: 96%\n",
        "stop: 13 / 167,  Correct: 92%\n",
        "cross: 14 / 388,  Correct: 96%\n",
        "nosign: 6 / 780,  Correct: 99%\n",
        "\n",
        "vgg:\n",
        "limit50: 2 / 111,  Correct: 98%\n",
        "stop: 5 / 167,  Correct: 97%\n",
        "cross: 8 / 388,  Correct: 98%\n",
        "nosign: 3 / 780,  Correct: 100%\n"
      ],
      "execution_count": 0,
      "outputs": []
    },
    {
      "cell_type": "markdown",
      "metadata": {
        "id": "PnSDOcbQfK8H",
        "colab_type": "text"
      },
      "source": [
        "##Detekcja wideo"
      ]
    },
    {
      "cell_type": "markdown",
      "metadata": {
        "id": "NXyERENbfP4x",
        "colab_type": "text"
      },
      "source": [
        "###Pliki i ścieżki"
      ]
    },
    {
      "cell_type": "code",
      "metadata": {
        "id": "PzK868vIbIxu",
        "colab_type": "code",
        "outputId": "22a847f0-6536-4ce1-c7c6-e06a9db1feaf",
        "colab": {
          "base_uri": "https://localhost:8080/",
          "height": 34
        }
      },
      "source": [
        "video_path_input_directory = '/content/drive/My Drive/Colab Notebooks/Road_sign_rec/Input'\n",
        "video_file_name = 'warsaw_drive_test.mp4'\n",
        "video_path_file = os.path.join(video_path_input_directory, video_file_name)\n",
        "video_path_output = '/content/drive/My Drive/Colab Notebooks/Road_sign_rec/Output'\n",
        "print(video_path_file)\n",
        "from google.colab.patches import cv2_imshow"
      ],
      "execution_count": 0,
      "outputs": [
        {
          "output_type": "stream",
          "text": [
            "/content/drive/My Drive/Colab Notebooks/Road_sign_rec/Input/warsaw_drive_test.mp4\n"
          ],
          "name": "stdout"
        }
      ]
    },
    {
      "cell_type": "code",
      "metadata": {
        "id": "6MjRwu8HcBue",
        "colab_type": "code",
        "colab": {}
      },
      "source": [
        "  ss = cv2.ximgproc.segmentation.createSelectiveSearchSegmentation()\n",
        "  cap = cv2.VideoCapture(video_path_file)\n",
        "  video_length = int(cap.get(cv2.CAP_PROP_FRAME_COUNT))\n",
        "  cap_video_fps = int(cap.get(cv2.CAP_PROP_FPS))\n",
        "  cap_video_width = int(cap.get(cv2.CAP_PROP_FRAME_WIDTH))\n",
        "  cap_video_height = int(cap.get(cv2.CAP_PROP_FRAME_HEIGHT))\n",
        "  print(\"FPS\", cap_video_fps)\n",
        "  print(\"Length\", video_length)\n",
        "  writer = None\n",
        "  (W, H) = (None, None)\n",
        "  mean = np.array([100, 100, 100], dtype=\"float32\")\n",
        "  i = 0\n",
        "  while True:\n",
        "      i += 1\n",
        "      print(f'{i} / {video_length}')\n",
        "      (grabbed, frame) = cap.read()\n",
        "      if not grabbed:\n",
        "          break\n",
        "      if W is None or H is None:\n",
        "          (H, W) = frame.shape[:2]\n",
        "      output = frame.copy()\n",
        "      ss.setBaseImage(output)\n",
        "      try:\n",
        "        ss.switchToSelectiveSearchFast()\n",
        "      except cv2.error:\n",
        "        break\n",
        "      ssresults = ss.process()\n",
        "      for w, result in enumerate(ssresults):\n",
        "          if w < 2000:\n",
        "              x, y, w, h = result\n",
        "              timage = output[y:y+h, x:x+w]\n",
        "              resized = cv2.resize(timage, (100, 100), interpolation=cv2.INTER_AREA)\n",
        "              resized = resized - mean\n",
        "              img = np.expand_dims(resized, axis=0)\n",
        "              out = model.predict(img/255.0, batch_size=10)\n",
        "              if out[0][0] >= 0.99:\n",
        "                  cv2.rectangle(output, (x, y), (x+w, y+h), (0, 255, 0), 1, cv2.LINE_AA)\n",
        "      if writer is None:\n",
        "          fourcc = cv2.VideoWriter_fourcc(*\"MJPG\")\n",
        "          writer = cv2.VideoWriter('Output/out_video.mp4', \n",
        "                                   fourcc, \n",
        "                                   30,\n",
        "                                   (W, H), \n",
        "                                   True,\n",
        "                                   )\n",
        "      writer.write(output)\n",
        "      cv2_imshow(output)\n",
        "  print(\"__END__\")"
      ],
      "execution_count": 0,
      "outputs": []
    }
  ]
}